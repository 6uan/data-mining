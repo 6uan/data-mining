{
 "cells": [
  {
   "cell_type": "code",
   "execution_count": 4,
   "metadata": {},
   "outputs": [],
   "source": [
    "import pandas as pd"
   ]
  },
  {
   "cell_type": "code",
   "execution_count": 5,
   "metadata": {},
   "outputs": [
    {
     "name": "stdout",
     "output_type": "stream",
     "text": [
      "             Post ID         Account ID Account username  \\\n",
      "0  17913480776986412  17841437331682896  top_dawg_treats   \n",
      "1  18006634244460591  17841464234704152  caninecrewmiami   \n",
      "\n",
      "                                   Account name  \\\n",
      "0  Top Dawg Treats - Event Organizer & Catering   \n",
      "1                             CANINE CREW MIAMI   \n",
      "\n",
      "                                         Description  Duration (sec)  \\\n",
      "0  🚨🚨 Cancelled Due To Bad Weather 🚨🚨\\n\\nLabor Da...               5   \n",
      "1  WE ARE BACK BABY!!! \\n\\nWith more collabs, ide...               0   \n",
      "\n",
      "       Publish time                                    Permalink Post type  \\\n",
      "0  08/16/2024 07:16  https://www.instagram.com/reel/C-u9UfFOo38/   IG reel   \n",
      "1  09/30/2024 13:09     https://www.instagram.com/p/DAjd59vy9Pu/  IG image   \n",
      "\n",
      "   Data comment      Date  Likes  Shares   Plays  Comments  Saves  \\\n",
      "0           NaN  Lifetime     42      16  2076.0         5      0   \n",
      "1           NaN  Lifetime     34       3     NaN        11      2   \n",
      "\n",
      "   Impressions   Reach  \n",
      "0          NaN     NaN  \n",
      "1       1921.0  1416.0  \n"
     ]
    }
   ],
   "source": [
    "data_path = './data/content/Jul-01-2024_Sep-30-2024.csv'\n",
    "df = pd.read_csv(data_path)\n",
    "\n",
    "print(df.head())"
   ]
  }
 ],
 "metadata": {
  "kernelspec": {
   "display_name": "Python 3",
   "language": "python",
   "name": "python3"
  },
  "language_info": {
   "codemirror_mode": {
    "name": "ipython",
    "version": 3
   },
   "file_extension": ".py",
   "mimetype": "text/x-python",
   "name": "python",
   "nbconvert_exporter": "python",
   "pygments_lexer": "ipython3",
   "version": "3.11.5"
  }
 },
 "nbformat": 4,
 "nbformat_minor": 2
}
