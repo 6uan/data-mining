{
 "cells": [
  {
   "cell_type": "code",
   "execution_count": 1,
   "metadata": {},
   "outputs": [],
   "source": [
    "import pandas as pd"
   ]
  },
  {
   "cell_type": "code",
   "execution_count": null,
   "metadata": {},
   "outputs": [],
   "source": [
    "# Paths to your CSV data files\n",
    "q1_data_path = './data/content/Jan-29-2024_Mar-31-2024.csv'\n",
    "q2_data_path = './data/content/Apr-01-2024_Jun-30-2024.csv'\n",
    "q3_data_path = './data/content/Jul-01-2024_Sep-30-2024.csv'\n",
    "\n",
    "# Load the data\n",
    "Q1 = pd.read_csv(q1_data_path)\n",
    "Q2 = pd.read_csv(q2_data_path)\n",
    "Q3 = pd.read_csv(q3_data_path)\n",
    "\n",
    "# Add a 'Quarter' column to each DataFrame\n",
    "Q1['Quarter'] = 0  # Q1: Jan to Mar\n",
    "Q2['Quarter'] = 1  # Q2: Apr to Jun\n",
    "Q3['Quarter'] = 2  # Q3: Jul to Sep\n",
    "\n",
    "# Keep only relevant columns\n",
    "columns_to_keep = ['Permalink','Publish time', 'Likes', 'Shares', 'Plays', 'Comments', 'Saves', 'Impressions', 'Reach', 'Quarter']\n",
    "filtered_Q1 = Q1[columns_to_keep]\n",
    "filtered_Q2 = Q2[columns_to_keep]\n",
    "filtered_Q3 = Q3[columns_to_keep]\n",
    "\n",
    "# Combine all quarters into one DataFrame\n",
    "combined_df = pd.concat([filtered_Q1, filtered_Q2, filtered_Q3], ignore_index=True)\n",
    "\n",
    "# Convert 'Publish time' to a datetime format\n",
    "combined_df['Publish time'] = pd.to_datetime(combined_df['Publish time'], format='%m/%d/%Y %H:%M')\n",
    "\n",
    "# Create new fields from 'Publish time'\n",
    "combined_df['Year'] = combined_df['Publish time'].dt.year\n",
    "combined_df['Month'] = combined_df['Publish time'].dt.month\n",
    "combined_df['Day'] = combined_df['Publish time'].dt.day\n",
    "combined_df['Day of Week'] = combined_df['Publish time'].dt.dayofweek  # 0=Monday, 6=Sunday\n",
    "combined_df['Hour'] = combined_df['Publish time'].dt.hour\n",
    "\n",
    "# Drop 'Publish time' if it's no longer needed, or keep it as reference\n",
    "combined_df = combined_df.drop(columns=['Publish time'])\n",
    "\n",
    "# Display the updated DataFrame with more detailed fields\n",
    "print(combined_df.head())\n",
    "\n",
    "# Export the DataFrame to a CSV file\n",
    "combined_df.to_csv('./data/content/combined_data.csv', index=False)\n",
    "\n"
   ]
  }
 ],
 "metadata": {
  "kernelspec": {
   "display_name": "Python 3",
   "language": "python",
   "name": "python3"
  },
  "language_info": {
   "codemirror_mode": {
    "name": "ipython",
    "version": 3
   },
   "file_extension": ".py",
   "mimetype": "text/x-python",
   "name": "python",
   "nbconvert_exporter": "python",
   "pygments_lexer": "ipython3",
   "version": "3.11.5"
  }
 },
 "nbformat": 4,
 "nbformat_minor": 2
}
